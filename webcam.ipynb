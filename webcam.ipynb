{
 "cells": [
  {
   "cell_type": "markdown",
   "metadata": {},
   "source": [
    "<div style=\"display: flex;\">\n",
    "<img alt=\"fit hcmus logo\" width=\"300\" src=\"https://www.ctda.hcmus.edu.vn/wp-content/uploads/2022/03/FIT-logo_dat_kem_voi_logo_truong.png\" onerror='this.src=\"https://courses.fit.hcmus.edu.vn/pluginfile.php/1/theme_academi/logo/1698750738/fit-logo-chuan-V2-MOODLE.jpg\"'></img>\n",
    "<div style=\"display: flex; flex-direction:column; justify-content: center\" >\n",
    "<h4 style=\"text-align:right; margin: 0\">VNUHCM-UNIVERSITY OF SCIENCE &emsp;</h4>\n",
    "<h4 style=\"text-align:right; margin: 0\">FACULTY OF INFORMATION TECHNOLOGY &emsp;</h4>\n",
    "</div>\n",
    "</div>\n",
    "\n",
    "---\n",
    "\n",
    "# <p style=\"text-align:center\"><b>Sinh trắc học 20-21 / HK1 / 2023-2024</b></p>\n",
    "# <p style=\"text-align:center\"><b>LAB 02 - NHẬN DẠNG BẰNG DEEP LEARNING</b></p>\n",
    "<p style=\"text-align:center\"> GVLT: Lê Hoàng Thái</p>\n",
    "<p style=\"text-align:center\"> GVTH: Lê Thanh Phong</p>\n",
    "\n",
    "**Họ và tên:** Lê Hoài Phong</br>\n",
    "**MSSV:** 20120545</br>\n",
    "**SĐT:** 0387671963 </br>\n",
    "**Email:** 20120545@student.hcmus.edu.vn </br>\n",
    "\n",
    "<p style=\"text-align:center\"> <i>Thành phố Hồ Chí Minh, ngày 10 tháng 12 năm 2023</i></p>\n",
    "\n",
    "---"
   ]
  },
  {
   "cell_type": "markdown",
   "metadata": {},
   "source": [
    "Trong file này, em thực hiện xây dựng hệ thống nhận diện realtime qua webcam, dùng thư viện face_recognition."
   ]
  },
  {
   "cell_type": "code",
   "execution_count": null,
   "metadata": {},
   "outputs": [],
   "source": [
    "# !pip install face_recognition"
   ]
  },
  {
   "cell_type": "markdown",
   "metadata": {},
   "source": [
    "Cài đặt các logic cho hệ thống nhận diện, bao gồm việc encode các ảnh database (là kho chứa ảnh của known people); detect và nhận diện bằng camera."
   ]
  },
  {
   "cell_type": "code",
   "execution_count": 1,
   "metadata": {},
   "outputs": [],
   "source": [
    "import face_recognition\n",
    "import cv2\n",
    "import numpy as np\n",
    "import os\n",
    "import sys\n",
    "import math\n",
    "\n",
    "# Calculates the confidence score of a face match based on the face distance and a face match threshold.\n",
    "def face_confidence(face_distance, threshold = 0.6):\n",
    "  range = (1.0 - threshold)\n",
    "  linear_val = (1.0 - face_distance) / (range * 2.0)\n",
    "\n",
    "  if face_distance > threshold:\n",
    "    return str(round(linear_val * 100, 2)) +'%'\n",
    "  else:\n",
    "    value = (linear_val + ((1.0 - linear_val)*math.pow((linear_val - 0.5) * 2, 0.2))) * 100\n",
    "    return str(round(value, 2)) + '%'\n",
    "  \n",
    "class FaceRecognition:\n",
    "    face_locations = [] # Vị trí mặt trên hình test\n",
    "    face_encodings = [] # embedding ảnh test\n",
    "    face_names = []\n",
    "    known_face_encodings = [] # embedding khuôn mặt đã biết (trong database)\n",
    "    known_face_names = []\n",
    "    process_current_frame = True\n",
    "\n",
    "    def __init__(self):\n",
    "        pass\n",
    "\n",
    "    # encode ảnh trong database (known face)\n",
    "    def encode_faces(self, database_path):\n",
    "        for name in os.listdir(database_path):\n",
    "            # Tải hình và encode\n",
    "            face_image = face_recognition.load_image_file(f'{database_path}/{name}')\n",
    "            face_encoding = face_recognition.face_encodings(face_image)[0]\n",
    "            # Lưu vào known face\n",
    "            self.known_face_encodings.append(face_encoding)\n",
    "            self.known_face_names.append(name.split('.')[0])\n",
    "\n",
    "    def start(self, video_path = 0):\n",
    "        video_capture = cv2.VideoCapture(video_path)\n",
    "\n",
    "        # Nếu không mở được cam hoặc video thì thông báo lỗi\n",
    "        if not video_capture.isOpened():\n",
    "            sys.exit('Can not open camera/video ...')\n",
    "\n",
    "        while True:\n",
    "            _, frame = video_capture.read()\n",
    "\n",
    "            if self.process_current_frame:\n",
    "                small_frame = cv2.resize(frame, (0, 0), fx = 0.25, fy = 0.25)\n",
    "                rgb_small_frame = cv2.cvtColor(small_frame, cv2.COLOR_BGR2RGB)\n",
    "\n",
    "                # detect mặt và encode\n",
    "                self.face_locations = face_recognition.face_locations(rgb_small_frame)\n",
    "                self.face_encodings = face_recognition.face_encodings(rgb_small_frame, self.face_locations)\n",
    "\n",
    "                # So khớp từng khuôn mặt\n",
    "                self.face_names = []\n",
    "                for face_encoding in self.face_encodings:\n",
    "                    matches = face_recognition.compare_faces(self.known_face_encodings, face_encoding)\n",
    "                    # Mặc định là unknown face\n",
    "                    name = 'Unknown'\n",
    "                    confidence = 'Unknown'\n",
    "\n",
    "                    face_distances = face_recognition.face_distance(self.known_face_encodings, face_encoding)\n",
    "                    best_match_index = np.argmin(face_distances)\n",
    "\n",
    "                    if matches[best_match_index]:\n",
    "                        name = self.known_face_names[best_match_index]\n",
    "                        confidence = face_confidence(face_distances[best_match_index])\n",
    "\n",
    "                    self.face_names.append(f'{name} ({confidence})')\n",
    "\n",
    "            self.process_current_frame = not self.process_current_frame\n",
    "\n",
    "            # Display annotations\n",
    "            for (top, right, bottom, left), name in zip(self.face_locations, self.face_names):\n",
    "                top *= 4\n",
    "                right *= 4\n",
    "                bottom *= 4\n",
    "                left *= 4\n",
    "\n",
    "                cv2.rectangle(frame, (left, top), (right, bottom), (0, 0, 255), 2)\n",
    "                cv2.rectangle(frame, (left, bottom - 35), (right, bottom), (0, 0, 255), -1)\n",
    "                cv2.putText(frame, name, (left + 6, bottom - 6), cv2.FONT_HERSHEY_DUPLEX, 0.6, (255, 255, 255), 1)\n",
    "\n",
    "            # Hiển thị frame hình đã được recognized\n",
    "            cv2.imshow('Face Recognition - press q to exit', frame)\n",
    "\n",
    "            if cv2.waitKey(1) == ord('q'):\n",
    "                break\n",
    "\n",
    "        # Tắt cam và các cửa sổ\n",
    "        video_capture.release()\n",
    "        cv2.waitKey(0)\n",
    "        cv2.destroyAllWindows()\n"
   ]
  },
  {
   "cell_type": "markdown",
   "metadata": {},
   "source": [
    "Khởi tạo bộ nhận diện và mở camera."
   ]
  },
  {
   "cell_type": "code",
   "execution_count": 4,
   "metadata": {},
   "outputs": [],
   "source": [
    "fr = FaceRecognition() # Khởi tạo một bộ nhận diện\n",
    "fr.encode_faces('webcam_database')\n",
    "fr.start()"
   ]
  }
 ],
 "metadata": {
  "kernelspec": {
   "display_name": "Python 3",
   "language": "python",
   "name": "python3"
  },
  "language_info": {
   "codemirror_mode": {
    "name": "ipython",
    "version": 3
   },
   "file_extension": ".py",
   "mimetype": "text/x-python",
   "name": "python",
   "nbconvert_exporter": "python",
   "pygments_lexer": "ipython3",
   "version": "3.9.5"
  }
 },
 "nbformat": 4,
 "nbformat_minor": 2
}
